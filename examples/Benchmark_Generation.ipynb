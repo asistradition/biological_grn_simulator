{
 "cells": [
  {
   "cell_type": "code",
   "execution_count": 1,
   "id": "c441c2b1",
   "metadata": {},
   "outputs": [],
   "source": [
    "import scanpy as sc\n",
    "\n",
    "from bio_grns import (\n",
    "    Trajectory,\n",
    "    GRNSimulator\n",
    ")"
   ]
  },
  {
   "cell_type": "code",
   "execution_count": 2,
   "id": "8813335d",
   "metadata": {},
   "outputs": [],
   "source": [
    "### Construct a trajectory ###\n",
    "\n",
    "trajectory_1 = Trajectory(\n",
    "    500,                           ### Length of trajectory in time units (minutes)\n",
    "    primary_trajectory = True,     ### Trajectory is primary (represents wall clock)\n",
    "    force_positive = True,         ### Return absolute value of activity\n",
    "    latent_network_sparsity = 0.2, ### Ratio of TFs which will be influenced by this trajectory\n",
    "    name = \"Development\"           ### Name this trajectory\n",
    ")\n",
    "\n",
    "trajectory_1.add_pattern(\n",
    "    'random', 0.5, 0.05, 0.2\n",
    ") ### Random walk starting with an activity of 1 and steps between 0.05 and 0.2\n",
    "\n",
    "trajectory_1.add_pattern(\n",
    "    'cyclic', 0, 0.01, 0.5\n",
    ") ### Cycle from zero to one (halfway through the trajectory) to zero again with random step sizes between 0.01 and 0.5\n",
    "\n",
    "trajectory_1.add_pattern(\n",
    "    'updown', .8, .2, (0.01, 0.5)\n",
    ") ### Cycle from .8 to 1 (20% into the trajectory) to 0 with random step sizes between 0.01 and 0.5\n",
    "\n",
    "### Construct a trajectory ###\n",
    "\n",
    "trajectory_2 = Trajectory(\n",
    "    300,                           ### Length of trajectory in time units (minutes)\n",
    "    primary_trajectory = False,    ### Trajectory is primary (represents wall clock)\n",
    "    force_positive = True,         ### Return absolute value of activity\n",
    "    latent_network_sparsity = 0.2, ### Ratio of TFs which will be influenced by this trajectory\n",
    "    name = \"Cycle\"                 ### Name this trajectory\n",
    ")\n",
    "\n",
    "trajectory_2.add_pattern(\n",
    "    'cyclic', 0, 0.05, 0.2\n",
    ")\n",
    "\n",
    "trajectory_2.add_pattern(\n",
    "    'cyclic', 0.33, 0.05, 0.2\n",
    ")\n",
    "\n",
    "trajectory_2.add_pattern(\n",
    "    'cyclic', 0.66, 0.05, 0.2\n",
    ")"
   ]
  },
  {
   "cell_type": "code",
   "execution_count": 3,
   "id": "a1f1f1d5",
   "metadata": {},
   "outputs": [
    {
     "name": "stderr",
     "output_type": "stream",
     "text": [
      "2022-11-08 12:47:15,924 Generating trajectory -> regulator networks\n",
      "2022-11-08 12:47:15,926 Generated (200, 3) network with 39 nonzero edges\n",
      "2022-11-08 12:47:15,927 Generated network for Development\n",
      "2022-11-08 12:47:15,928 Generated (200, 3) network with 39 nonzero edges\n",
      "2022-11-08 12:47:15,928 Generated network for Cycle\n",
      "2022-11-08 12:47:15,928 Simulating gene biophysical parameters\n",
      "2022-11-08 12:47:15,929 Simulating regulatory network\n",
      "2022-11-08 12:47:15,964 Generated (5000, 200) network with 39920 nonzero edges\n",
      "2022-11-08 12:47:15,965 Simulating gene expression over time\n",
      "2022-11-08 12:47:15,966 Generating pattern gene expression for Development\n",
      "2022-11-08 12:47:15,966 Generating pattern regulatory activity for Development\n",
      "2022-11-08 12:47:15,966 Generating pattern dynamic states for Development\n",
      "2022-11-08 12:47:15,968 Generating dynamic expression (500 x 5000) with activation function relu_onemax\n",
      "2022-11-08 12:47:16,181 Generating pattern gene expression for Cycle\n",
      "2022-11-08 12:47:16,181 Generating pattern regulatory activity for Cycle\n",
      "2022-11-08 12:47:16,182 Generating pattern dynamic states for Cycle\n",
      "2022-11-08 12:47:16,183 Generating dynamic expression (300 x 5000) with activation function relu_onemax\n"
     ]
    }
   ],
   "source": [
    "### Create a simulator ###\n",
    "\n",
    "sim = GRNSimulator(\n",
    "    5000,                        ### Number of genes\n",
    "    200,                         ### Number of genes which are regulators\n",
    "    81,                          ### Random number for seeding generator\n",
    "    n_samples = 1000,            ### Number of samples to generate\n",
    "    counts_per_sample = 5000,    ### Number of read counts per sample\n",
    "    debug=True\n",
    ")\n",
    "\n",
    "sim.add_trajectory(trajectory_1)   ### Add the trajectory to the simulator\n",
    "sim.add_trajectory(trajectory_2)   ### Add the trajectory to the simulator\n",
    "\n",
    "sim.set_biophysical_parameters(\n",
    "    halflife_limits = (20, 200)    ### Set boundries for halflife (to calculate decay constant)\n",
    ")\n",
    "sim.set_network_parameters(\n",
    "    regulatory_network_sparsity = 0.04,       ### Set the sparsity in the target -> regulator network\n",
    "    regulatory_network_activator_ratio = 0.8  ### Set the ratio of positive target -> regulator network edges\n",
    ")\n",
    "\n",
    "sim.simulate()"
   ]
  },
  {
   "cell_type": "code",
   "execution_count": 4,
   "id": "f73be0d1",
   "metadata": {},
   "outputs": [
    {
     "name": "stderr",
     "output_type": "stream",
     "text": [
      "2022-11-08 12:47:16,630 Downsampling network with 39920 edges by removing 19960 edges (0.5)\n",
      "2022-11-08 12:47:16,926 Simulating count data from trajectories\n",
      "100%|██████████| 1000/1000 [00:00<00:00, 1831.96it/s]\n",
      "2022-11-08 12:47:17,594 Simulating count data from trajectories\n",
      "100%|██████████| 1000/1000 [00:00<00:00, 1846.16it/s]\n",
      "2022-11-08 12:47:18,269 Simulating count data from trajectories\n",
      "100%|██████████| 1000/1000 [00:00<00:00, 1813.72it/s]\n",
      "2022-11-08 12:47:18,948 Simulating count data from trajectories\n",
      "100%|██████████| 1000/1000 [00:00<00:00, 1817.21it/s]\n",
      "2022-11-08 12:47:19,625 Simulating count data from trajectories\n",
      "100%|██████████| 1000/1000 [00:00<00:00, 1832.28it/s]\n"
     ]
    }
   ],
   "source": [
    "sim.save_network(\"benchmark_gold_standard.tsv\")\n",
    "sim.save_network(\"benchmark_prior_knowledge_network.tsv\", edges_to_include=0.5)\n",
    "\n",
    "for i in range(5):\n",
    "    adata = sim.generate_count_data(sparse=True, no_metadata=True)\n",
    "    adata.write(f\"benchmark_count_data_{i}.h5ad\")"
   ]
  },
  {
   "cell_type": "code",
   "execution_count": null,
   "id": "6b55b8c9",
   "metadata": {},
   "outputs": [],
   "source": [
    "import pandas as pd\n",
    "\n",
    "net = pd.read_csv('')"
   ]
  }
 ],
 "metadata": {
  "kernelspec": {
   "display_name": "Python [conda env:inferelator]",
   "language": "python",
   "name": "conda-env-inferelator-py"
  },
  "language_info": {
   "codemirror_mode": {
    "name": "ipython",
    "version": 3
   },
   "file_extension": ".py",
   "mimetype": "text/x-python",
   "name": "python",
   "nbconvert_exporter": "python",
   "pygments_lexer": "ipython3",
   "version": "3.8.3"
  }
 },
 "nbformat": 4,
 "nbformat_minor": 5
}
